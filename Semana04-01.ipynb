{
 "cells": [
  {
   "cell_type": "markdown",
   "id": "17e9b8f2",
   "metadata": {},
   "source": [
    "# Semana 04"
   ]
  },
  {
   "cell_type": "markdown",
   "id": "bfe9a1c0",
   "metadata": {},
   "source": [
    "1. Colecciones de datos"
   ]
  },
  {
   "cell_type": "code",
   "execution_count": 2,
   "id": "5bea1841",
   "metadata": {},
   "outputs": [
    {
     "name": "stdout",
     "output_type": "stream",
     "text": [
      "['Daniel', 'Brian', 'Alexia']\n"
     ]
    }
   ],
   "source": [
    "#1.1. Listas\n",
    "#Es una colección de elementos que puede ser ordenada, modiicado, etc...\n",
    "#Ejemplo\n",
    "aula = [\"Daniel\", \"Brian\", \"Alexia\"]\n",
    "print(aula)"
   ]
  },
  {
   "cell_type": "code",
   "execution_count": 4,
   "id": "8921ddee",
   "metadata": {},
   "outputs": [
    {
     "data": {
      "text/plain": [
       "['Daniel', 'Brian', 'Alexia']"
      ]
     },
     "execution_count": 4,
     "metadata": {},
     "output_type": "execute_result"
    }
   ],
   "source": [
    "#También podemos imprimirla solo llamando la lista\n",
    "aula"
   ]
  },
  {
   "cell_type": "code",
   "execution_count": 6,
   "id": "50a641fb",
   "metadata": {},
   "outputs": [
    {
     "data": {
      "text/plain": [
       "'Daniel'"
      ]
     },
     "execution_count": 6,
     "metadata": {},
     "output_type": "execute_result"
    }
   ],
   "source": [
    "aula[0]"
   ]
  },
  {
   "cell_type": "code",
   "execution_count": 7,
   "id": "02e1a491",
   "metadata": {},
   "outputs": [
    {
     "data": {
      "text/plain": [
       "'Brian'"
      ]
     },
     "execution_count": 7,
     "metadata": {},
     "output_type": "execute_result"
    }
   ],
   "source": [
    "aula[1]"
   ]
  },
  {
   "cell_type": "code",
   "execution_count": 9,
   "id": "0479b12a",
   "metadata": {},
   "outputs": [
    {
     "data": {
      "text/plain": [
       "['Daniel', 'Chavez', 'Alexia']"
      ]
     },
     "execution_count": 9,
     "metadata": {},
     "output_type": "execute_result"
    }
   ],
   "source": [
    "#Asignar un valor a una posición de la lista\n",
    "aula[1]=\"Chavez\"\n",
    "aula"
   ]
  },
  {
   "cell_type": "code",
   "execution_count": 11,
   "id": "be8ff89d",
   "metadata": {},
   "outputs": [],
   "source": [
    "#Añadir un elemento a mi lista\n",
    "aula.append(\"Curo\")"
   ]
  },
  {
   "cell_type": "code",
   "execution_count": 13,
   "id": "55b6e2bc",
   "metadata": {},
   "outputs": [
    {
     "data": {
      "text/plain": [
       "['Daniel', 'Chavez', 'Alexia', 'Curo']"
      ]
     },
     "execution_count": 13,
     "metadata": {},
     "output_type": "execute_result"
    }
   ],
   "source": [
    "aula"
   ]
  },
  {
   "cell_type": "code",
   "execution_count": 16,
   "id": "96f96886",
   "metadata": {},
   "outputs": [
    {
     "data": {
      "text/plain": [
       "['Daniel', 'Curo']"
      ]
     },
     "execution_count": 16,
     "metadata": {},
     "output_type": "execute_result"
    }
   ],
   "source": [
    "#Eliminar a un elemento: remove()\n",
    "aula.remove(\"Alexia\")\n",
    "aula"
   ]
  },
  {
   "cell_type": "code",
   "execution_count": 17,
   "id": "789fa7d1",
   "metadata": {},
   "outputs": [
    {
     "data": {
      "text/plain": [
       "2"
      ]
     },
     "execution_count": 17,
     "metadata": {},
     "output_type": "execute_result"
    }
   ],
   "source": [
    "#Si hubieran elementos repetidos en la lista, el leng. Python lo considera eliminar el primero\n",
    "len(aula)"
   ]
  },
  {
   "cell_type": "code",
   "execution_count": 19,
   "id": "54c7a0ce",
   "metadata": {},
   "outputs": [
    {
     "name": "stdout",
     "output_type": "stream",
     "text": [
      "Daniel\n",
      "Curo\n"
     ]
    }
   ],
   "source": [
    "for alumno in aula:\n",
    "    print(alumno)"
   ]
  },
  {
   "cell_type": "code",
   "execution_count": 23,
   "id": "a77c6cd6",
   "metadata": {},
   "outputs": [
    {
     "data": {
      "text/plain": [
       "['Daniel', 'Curo']"
      ]
     },
     "execution_count": 23,
     "metadata": {},
     "output_type": "execute_result"
    }
   ],
   "source": [
    "#Para invertir la lista utilizamos reverse()\n",
    "aula.reverse()\n",
    "aula"
   ]
  },
  {
   "cell_type": "code",
   "execution_count": 24,
   "id": "eeea9349",
   "metadata": {},
   "outputs": [
    {
     "data": {
      "text/plain": [
       "('Sahuma', 'Inca', 'Asuncion')"
      ]
     },
     "execution_count": 24,
     "metadata": {},
     "output_type": "execute_result"
    }
   ],
   "source": [
    "#1.2. Tuplas\n",
    "#Es una colección de elementos ordenados (Ordenado significa que cada uno tiene un índice) que no se puede modificar\n",
    "# Es inalterable\n",
    "# No se pueden agregar elementos ni eliminar\n",
    "#Se identifican por lo parentesis\n",
    "tupla_aula = (\"Sahuma\", \"Inca\", \"Asuncion\")\n",
    "tupla_aula              "
   ]
  },
  {
   "cell_type": "code",
   "execution_count": 25,
   "id": "3709b62b",
   "metadata": {},
   "outputs": [
    {
     "name": "stdout",
     "output_type": "stream",
     "text": [
      "Sahuma\n",
      "Inca\n",
      "Asuncion\n"
     ]
    }
   ],
   "source": [
    "for i in tupla_aula:\n",
    "    print(i)"
   ]
  },
  {
   "cell_type": "code",
   "execution_count": 26,
   "id": "baafd012",
   "metadata": {},
   "outputs": [
    {
     "data": {
      "text/plain": [
       "3"
      ]
     },
     "execution_count": 26,
     "metadata": {},
     "output_type": "execute_result"
    }
   ],
   "source": [
    "len(tupla_aula)"
   ]
  },
  {
   "cell_type": "code",
   "execution_count": 28,
   "id": "b250884c",
   "metadata": {},
   "outputs": [
    {
     "data": {
      "text/plain": [
       "'Asuncion'"
      ]
     },
     "execution_count": 28,
     "metadata": {},
     "output_type": "execute_result"
    }
   ],
   "source": [
    "#Extraer un elemento\n",
    "tupla_aula[2]"
   ]
  },
  {
   "cell_type": "code",
   "execution_count": 30,
   "id": "59651748",
   "metadata": {},
   "outputs": [
    {
     "data": {
      "text/plain": [
       "{'a', 'b', 'c'}"
      ]
     },
     "execution_count": 30,
     "metadata": {},
     "output_type": "execute_result"
    }
   ],
   "source": [
    "#1.3. Conjuntos\n",
    "# Es una colección de elementos que no estan ordenados\n",
    "# Significa que no tiene un índice\n",
    "conjunto_aula = {\"a\",\"b\",\"c\"}\n",
    "conjunto_aula"
   ]
  },
  {
   "cell_type": "code",
   "execution_count": 31,
   "id": "db2154cd",
   "metadata": {},
   "outputs": [],
   "source": [
    "#Observación: No se puede acceder por posición no se puede porque no es indexada\n",
    "#Por ejemplo:\n",
    "#conjunto_aula[2] devolvería un mensaje de error "
   ]
  },
  {
   "cell_type": "code",
   "execution_count": 32,
   "id": "a767a262",
   "metadata": {},
   "outputs": [
    {
     "data": {
      "text/plain": [
       "3"
      ]
     },
     "execution_count": 32,
     "metadata": {},
     "output_type": "execute_result"
    }
   ],
   "source": [
    "len(conjunto_aula)"
   ]
  },
  {
   "cell_type": "code",
   "execution_count": 34,
   "id": "a3a5a983",
   "metadata": {},
   "outputs": [],
   "source": [
    "conjunto_aula.add(\"Daniel\")"
   ]
  },
  {
   "cell_type": "code",
   "execution_count": 37,
   "id": "b7be218d",
   "metadata": {},
   "outputs": [
    {
     "data": {
      "text/plain": [
       "{'Daniel', 'a', 'b', 'c'}"
      ]
     },
     "execution_count": 37,
     "metadata": {},
     "output_type": "execute_result"
    }
   ],
   "source": [
    "conjunto_aula"
   ]
  },
  {
   "cell_type": "code",
   "execution_count": 40,
   "id": "fff68efe",
   "metadata": {},
   "outputs": [],
   "source": [
    "conjunto_aula.remove(\"b\")"
   ]
  },
  {
   "cell_type": "code",
   "execution_count": 41,
   "id": "afe9da4a",
   "metadata": {},
   "outputs": [
    {
     "data": {
      "text/plain": [
       "{'Daniel', 'c'}"
      ]
     },
     "execution_count": 41,
     "metadata": {},
     "output_type": "execute_result"
    }
   ],
   "source": [
    "conjunto_aula"
   ]
  },
  {
   "cell_type": "code",
   "execution_count": 42,
   "id": "97585e7a",
   "metadata": {},
   "outputs": [],
   "source": [
    "#1.4. Diccionarios\n",
    "#Es una colección de elementos que estan indexados,\n",
    "# No estan ordenados y se puede modificar\n",
    "#Son escritos entre llaves y están formados por pares de elementos\n",
    "# Indice: Valor\n",
    "diccionario_aula = {2:\"Asuncion\", '1':'Ayquipa', 'dos':'Barzola', '3': 'Caman', '0': 'Curo'}"
   ]
  },
  {
   "cell_type": "code",
   "execution_count": 44,
   "id": "477198dd",
   "metadata": {},
   "outputs": [
    {
     "data": {
      "text/plain": [
       "{2: 'Asuncion', '1': 'Ayquipa', 'dos': 'Barzola', '3': 'Caman', '0': 'Curo'}"
      ]
     },
     "execution_count": 44,
     "metadata": {},
     "output_type": "execute_result"
    }
   ],
   "source": [
    "diccionario_aula"
   ]
  },
  {
   "cell_type": "code",
   "execution_count": 45,
   "id": "aac68342",
   "metadata": {},
   "outputs": [
    {
     "data": {
      "text/plain": [
       "'Asuncion'"
      ]
     },
     "execution_count": 45,
     "metadata": {},
     "output_type": "execute_result"
    }
   ],
   "source": [
    "diccionario_aula[2]"
   ]
  },
  {
   "cell_type": "code",
   "execution_count": 47,
   "id": "cc000233",
   "metadata": {},
   "outputs": [
    {
     "data": {
      "text/plain": [
       "'Barzola'"
      ]
     },
     "execution_count": 47,
     "metadata": {},
     "output_type": "execute_result"
    }
   ],
   "source": [
    "diccionario_aula[\"dos\"]"
   ]
  },
  {
   "cell_type": "code",
   "execution_count": 52,
   "id": "ad238c5b",
   "metadata": {},
   "outputs": [
    {
     "data": {
      "text/plain": [
       "'Curo'"
      ]
     },
     "execution_count": 52,
     "metadata": {},
     "output_type": "execute_result"
    }
   ],
   "source": [
    "diccionario_aula['0']"
   ]
  },
  {
   "cell_type": "code",
   "execution_count": 55,
   "id": "94053b1a",
   "metadata": {},
   "outputs": [
    {
     "data": {
      "text/plain": [
       "'Ayquipa'"
      ]
     },
     "execution_count": 55,
     "metadata": {},
     "output_type": "execute_result"
    }
   ],
   "source": [
    "diccionario_aula[\"1\"]"
   ]
  },
  {
   "cell_type": "code",
   "execution_count": 57,
   "id": "b0127f85",
   "metadata": {},
   "outputs": [
    {
     "data": {
      "text/plain": [
       "{2: 'Asuncion',\n",
       " '1': 'Ayquipa',\n",
       " 'dos': 'Barzola',\n",
       " '3': 'Caman',\n",
       " '0': 'Curo',\n",
       " '20': 'Inca'}"
      ]
     },
     "execution_count": 57,
     "metadata": {},
     "output_type": "execute_result"
    }
   ],
   "source": [
    "#Añadir elementos al diccionario\n",
    "diccionario_aula['20']= 'Inca'\n",
    "diccionario_aula"
   ]
  },
  {
   "cell_type": "code",
   "execution_count": 60,
   "id": "4f40d620",
   "metadata": {},
   "outputs": [
    {
     "data": {
      "text/plain": [
       "'Barzola'"
      ]
     },
     "execution_count": 60,
     "metadata": {},
     "output_type": "execute_result"
    }
   ],
   "source": [
    "#Eliminar un elemento del diccionario\n",
    "diccionario_aula.pop(\"dos\")"
   ]
  },
  {
   "cell_type": "code",
   "execution_count": 62,
   "id": "adae16b7",
   "metadata": {},
   "outputs": [
    {
     "data": {
      "text/plain": [
       "{'1': 'Ayquipa', '3': 'Caman', '0': 'Curo', '20': 'Inca'}"
      ]
     },
     "execution_count": 62,
     "metadata": {},
     "output_type": "execute_result"
    }
   ],
   "source": [
    "diccionario_aula"
   ]
  },
  {
   "cell_type": "code",
   "execution_count": 64,
   "id": "7ca63387",
   "metadata": {},
   "outputs": [
    {
     "name": "stdout",
     "output_type": "stream",
     "text": [
      "1\n",
      "3\n",
      "0\n",
      "20\n"
     ]
    }
   ],
   "source": [
    "for i in diccionario_aula:\n",
    "    print(i)"
   ]
  },
  {
   "cell_type": "code",
   "execution_count": 67,
   "id": "3e1c74fa",
   "metadata": {},
   "outputs": [
    {
     "name": "stdout",
     "output_type": "stream",
     "text": [
      "1 Ayquipa\n",
      "3 Caman\n",
      "0 Curo\n",
      "20 Inca\n"
     ]
    }
   ],
   "source": [
    "#Para obtener el indice y el valor de cada elemento utilizado items()\n",
    "for i, valor in diccionario_aula.items():\n",
    "    print(i, valor)"
   ]
  },
  {
   "cell_type": "code",
   "execution_count": null,
   "id": "366e0878",
   "metadata": {},
   "outputs": [],
   "source": [
    "#Ejercicio\n",
    "#Dada una lista de [\"Asuncion\", \"Ayquipa\", \"Barzola, \"Caman\",\"Curo\",\"Inca\",\"Sahuma\",\"Talledo\", \"Urbisagastegui\"]\n",
    "#Diseñar un código que muestre si un estudiante ingresado por el usuario esta dentro\n",
    "lista = [\"Asuncion\", \"Ayquipa\", \"Barzola\", \"Caman\",\"Curo\",\"Inca\",\"Sahuma\",\"Talledo\", \"Urbisagastegui\"]\n",
    "usuario = input(\"Ingresar un apellido de tus compañeros: \")\n",
    "for i in lista:\n",
    "    "
   ]
  }
 ],
 "metadata": {
  "kernelspec": {
   "display_name": "Python 3 (ipykernel)",
   "language": "python",
   "name": "python3"
  },
  "language_info": {
   "codemirror_mode": {
    "name": "ipython",
    "version": 3
   },
   "file_extension": ".py",
   "mimetype": "text/x-python",
   "name": "python",
   "nbconvert_exporter": "python",
   "pygments_lexer": "ipython3",
   "version": "3.9.13"
  }
 },
 "nbformat": 4,
 "nbformat_minor": 5
}
